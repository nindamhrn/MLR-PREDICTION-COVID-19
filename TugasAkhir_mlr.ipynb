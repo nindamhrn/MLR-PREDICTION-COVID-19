{
  "nbformat": 4,
  "nbformat_minor": 0,
  "metadata": {
    "colab": {
      "name": "TugasAkhir_mlr.ipynb",
      "provenance": [],
      "collapsed_sections": []
    },
    "kernelspec": {
      "display_name": "Python 3",
      "name": "python3"
    }
  },
  "cells": [
    {
      "cell_type": "markdown",
      "metadata": {
        "id": "DRW-vG6-PwIQ"
      },
      "source": [
        "# Mounting Google Drive"
      ]
    },
    {
      "cell_type": "code",
      "metadata": {
        "id": "dm2g7fW3P133",
        "colab": {
          "base_uri": "https://localhost:8080/"
        },
        "outputId": "31522dca-ce2d-4d3c-bb7a-cba89db19f81"
      },
      "source": [
        "from google.colab import drive\n",
        "drive.mount('/content/drive')"
      ],
      "execution_count": 1,
      "outputs": [
        {
          "output_type": "stream",
          "text": [
            "Drive already mounted at /content/drive; to attempt to forcibly remount, call drive.mount(\"/content/drive\", force_remount=True).\n"
          ],
          "name": "stdout"
        }
      ]
    },
    {
      "cell_type": "markdown",
      "metadata": {
        "id": "45YpP0hdQOmW"
      },
      "source": [
        "# Import Libraries"
      ]
    },
    {
      "cell_type": "code",
      "metadata": {
        "id": "xlhCno-gQSuv",
        "colab": {
          "base_uri": "https://localhost:8080/"
        },
        "outputId": "39eb1a95-791b-4845-ecae-700b1ee602d6"
      },
      "source": [
        "import numpy as np\n",
        "import pandas as pd\n",
        "import statsmodels.api as sm\n",
        "\n",
        "import sklearn\n",
        "from sklearn.linear_model import LinearRegression"
      ],
      "execution_count": 2,
      "outputs": [
        {
          "output_type": "stream",
          "text": [
            "/usr/local/lib/python3.6/dist-packages/statsmodels/tools/_testing.py:19: FutureWarning: pandas.util.testing is deprecated. Use the functions in the public API at pandas.testing instead.\n",
            "  import pandas.util.testing as tm\n"
          ],
          "name": "stderr"
        }
      ]
    },
    {
      "cell_type": "markdown",
      "metadata": {
        "id": "JT-TLLCLu4tx"
      },
      "source": [
        "# Variables Declaration"
      ]
    },
    {
      "cell_type": "code",
      "metadata": {
        "id": "ueCqmRTVu9C1"
      },
      "source": [
        "# references to the past data file\n",
        "file_path = '/content/drive/My Drive/DatasetTAfix.csv'"
      ],
      "execution_count": 3,
      "outputs": []
    },
    {
      "cell_type": "markdown",
      "metadata": {
        "id": "-3yeV_M5a1sk"
      },
      "source": [
        "# Read and Load Past Data"
      ]
    },
    {
      "cell_type": "code",
      "metadata": {
        "id": "SXDo-X_Qa7z2",
        "colab": {
          "base_uri": "https://localhost:8080/",
          "height": 233
        },
        "outputId": "c5c8b700-bb1b-4192-afe4-3dc65c0a7b90"
      },
      "source": [
        "# read and load past data\r\n",
        "data = pd.read_csv(file_path, index_col='Hari_ke')\r\n",
        "data.tail()"
      ],
      "execution_count": 4,
      "outputs": [
        {
          "output_type": "execute_result",
          "data": {
            "text/html": [
              "<div>\n",
              "<style scoped>\n",
              "    .dataframe tbody tr th:only-of-type {\n",
              "        vertical-align: middle;\n",
              "    }\n",
              "\n",
              "    .dataframe tbody tr th {\n",
              "        vertical-align: top;\n",
              "    }\n",
              "\n",
              "    .dataframe thead th {\n",
              "        text-align: right;\n",
              "    }\n",
              "</style>\n",
              "<table border=\"1\" class=\"dataframe\">\n",
              "  <thead>\n",
              "    <tr style=\"text-align: right;\">\n",
              "      <th></th>\n",
              "      <th>Tanggal</th>\n",
              "      <th>Positif</th>\n",
              "      <th>Sembuh</th>\n",
              "      <th>Meninggal</th>\n",
              "      <th>PSBB</th>\n",
              "      <th>Virus Corona</th>\n",
              "    </tr>\n",
              "    <tr>\n",
              "      <th>Hari_ke</th>\n",
              "      <th></th>\n",
              "      <th></th>\n",
              "      <th></th>\n",
              "      <th></th>\n",
              "      <th></th>\n",
              "      <th></th>\n",
              "    </tr>\n",
              "  </thead>\n",
              "  <tbody>\n",
              "    <tr>\n",
              "      <th>317</th>\n",
              "      <td>12/1/2021</td>\n",
              "      <td>10047</td>\n",
              "      <td>7068</td>\n",
              "      <td>302</td>\n",
              "      <td>40</td>\n",
              "      <td>79</td>\n",
              "    </tr>\n",
              "    <tr>\n",
              "      <th>318</th>\n",
              "      <td>1/13/2021</td>\n",
              "      <td>11278</td>\n",
              "      <td>7657</td>\n",
              "      <td>306</td>\n",
              "      <td>27</td>\n",
              "      <td>78</td>\n",
              "    </tr>\n",
              "    <tr>\n",
              "      <th>319</th>\n",
              "      <td>1/14/2021</td>\n",
              "      <td>11557</td>\n",
              "      <td>7741</td>\n",
              "      <td>295</td>\n",
              "      <td>24</td>\n",
              "      <td>63</td>\n",
              "    </tr>\n",
              "    <tr>\n",
              "      <th>320</th>\n",
              "      <td>1/15/2021</td>\n",
              "      <td>12818</td>\n",
              "      <td>7491</td>\n",
              "      <td>238</td>\n",
              "      <td>25</td>\n",
              "      <td>80</td>\n",
              "    </tr>\n",
              "    <tr>\n",
              "      <th>321</th>\n",
              "      <td>1/16/2021</td>\n",
              "      <td>14224</td>\n",
              "      <td>8662</td>\n",
              "      <td>283</td>\n",
              "      <td>22</td>\n",
              "      <td>80</td>\n",
              "    </tr>\n",
              "  </tbody>\n",
              "</table>\n",
              "</div>"
            ],
            "text/plain": [
              "           Tanggal  Positif  Sembuh  Meninggal  PSBB  Virus Corona\n",
              "Hari_ke                                                           \n",
              "317      12/1/2021    10047    7068        302    40            79\n",
              "318      1/13/2021    11278    7657        306    27            78\n",
              "319      1/14/2021    11557    7741        295    24            63\n",
              "320      1/15/2021    12818    7491        238    25            80\n",
              "321      1/16/2021    14224    8662        283    22            80"
            ]
          },
          "metadata": {
            "tags": []
          },
          "execution_count": 4
        }
      ]
    },
    {
      "cell_type": "markdown",
      "metadata": {
        "id": "a03-xFsz5aej"
      },
      "source": [
        "# Create Training Data and Testing Data"
      ]
    },
    {
      "cell_type": "code",
      "metadata": {
        "id": "Ov1Qu4tH5e-U",
        "colab": {
          "base_uri": "https://localhost:8080/",
          "height": 233
        },
        "outputId": "5b7a0767-7add-43cf-dc16-6ac8ea788776"
      },
      "source": [
        "# create training data\r\n",
        "train_data = data.loc[0:250]\r\n",
        "train_data.tail()"
      ],
      "execution_count": 5,
      "outputs": [
        {
          "output_type": "execute_result",
          "data": {
            "text/html": [
              "<div>\n",
              "<style scoped>\n",
              "    .dataframe tbody tr th:only-of-type {\n",
              "        vertical-align: middle;\n",
              "    }\n",
              "\n",
              "    .dataframe tbody tr th {\n",
              "        vertical-align: top;\n",
              "    }\n",
              "\n",
              "    .dataframe thead th {\n",
              "        text-align: right;\n",
              "    }\n",
              "</style>\n",
              "<table border=\"1\" class=\"dataframe\">\n",
              "  <thead>\n",
              "    <tr style=\"text-align: right;\">\n",
              "      <th></th>\n",
              "      <th>Tanggal</th>\n",
              "      <th>Positif</th>\n",
              "      <th>Sembuh</th>\n",
              "      <th>Meninggal</th>\n",
              "      <th>PSBB</th>\n",
              "      <th>Virus Corona</th>\n",
              "    </tr>\n",
              "    <tr>\n",
              "      <th>Hari_ke</th>\n",
              "      <th></th>\n",
              "      <th></th>\n",
              "      <th></th>\n",
              "      <th></th>\n",
              "      <th></th>\n",
              "      <th></th>\n",
              "    </tr>\n",
              "  </thead>\n",
              "  <tbody>\n",
              "    <tr>\n",
              "      <th>246</th>\n",
              "      <td>2/11/2020</td>\n",
              "      <td>2618</td>\n",
              "      <td>3624</td>\n",
              "      <td>101</td>\n",
              "      <td>19</td>\n",
              "      <td>43</td>\n",
              "    </tr>\n",
              "    <tr>\n",
              "      <th>247</th>\n",
              "      <td>3/11/2020</td>\n",
              "      <td>2973</td>\n",
              "      <td>3931</td>\n",
              "      <td>102</td>\n",
              "      <td>16</td>\n",
              "      <td>68</td>\n",
              "    </tr>\n",
              "    <tr>\n",
              "      <th>248</th>\n",
              "      <td>4/11/2020</td>\n",
              "      <td>3356</td>\n",
              "      <td>3785</td>\n",
              "      <td>113</td>\n",
              "      <td>14</td>\n",
              "      <td>60</td>\n",
              "    </tr>\n",
              "    <tr>\n",
              "      <th>249</th>\n",
              "      <td>5/11/2020</td>\n",
              "      <td>4065</td>\n",
              "      <td>3860</td>\n",
              "      <td>89</td>\n",
              "      <td>13</td>\n",
              "      <td>56</td>\n",
              "    </tr>\n",
              "    <tr>\n",
              "      <th>250</th>\n",
              "      <td>6/11/2020</td>\n",
              "      <td>3778</td>\n",
              "      <td>3563</td>\n",
              "      <td>94</td>\n",
              "      <td>15</td>\n",
              "      <td>65</td>\n",
              "    </tr>\n",
              "  </tbody>\n",
              "</table>\n",
              "</div>"
            ],
            "text/plain": [
              "           Tanggal  Positif  Sembuh  Meninggal  PSBB  Virus Corona\n",
              "Hari_ke                                                           \n",
              "246      2/11/2020     2618    3624        101    19            43\n",
              "247      3/11/2020     2973    3931        102    16            68\n",
              "248      4/11/2020     3356    3785        113    14            60\n",
              "249      5/11/2020     4065    3860         89    13            56\n",
              "250      6/11/2020     3778    3563         94    15            65"
            ]
          },
          "metadata": {
            "tags": []
          },
          "execution_count": 5
        }
      ]
    },
    {
      "cell_type": "code",
      "metadata": {
        "id": "6Ci-ieKl5y3v",
        "colab": {
          "base_uri": "https://localhost:8080/",
          "height": 233
        },
        "outputId": "1c41d516-c2d5-4c31-cb25-c954cdecd423"
      },
      "source": [
        "# create validating data\r\n",
        "valid_data = data.loc[251:len(data):]\r\n",
        "valid_data.tail()"
      ],
      "execution_count": 6,
      "outputs": [
        {
          "output_type": "execute_result",
          "data": {
            "text/html": [
              "<div>\n",
              "<style scoped>\n",
              "    .dataframe tbody tr th:only-of-type {\n",
              "        vertical-align: middle;\n",
              "    }\n",
              "\n",
              "    .dataframe tbody tr th {\n",
              "        vertical-align: top;\n",
              "    }\n",
              "\n",
              "    .dataframe thead th {\n",
              "        text-align: right;\n",
              "    }\n",
              "</style>\n",
              "<table border=\"1\" class=\"dataframe\">\n",
              "  <thead>\n",
              "    <tr style=\"text-align: right;\">\n",
              "      <th></th>\n",
              "      <th>Tanggal</th>\n",
              "      <th>Positif</th>\n",
              "      <th>Sembuh</th>\n",
              "      <th>Meninggal</th>\n",
              "      <th>PSBB</th>\n",
              "      <th>Virus Corona</th>\n",
              "    </tr>\n",
              "    <tr>\n",
              "      <th>Hari_ke</th>\n",
              "      <th></th>\n",
              "      <th></th>\n",
              "      <th></th>\n",
              "      <th></th>\n",
              "      <th></th>\n",
              "      <th></th>\n",
              "    </tr>\n",
              "  </thead>\n",
              "  <tbody>\n",
              "    <tr>\n",
              "      <th>317</th>\n",
              "      <td>12/1/2021</td>\n",
              "      <td>10047</td>\n",
              "      <td>7068</td>\n",
              "      <td>302</td>\n",
              "      <td>40</td>\n",
              "      <td>79</td>\n",
              "    </tr>\n",
              "    <tr>\n",
              "      <th>318</th>\n",
              "      <td>1/13/2021</td>\n",
              "      <td>11278</td>\n",
              "      <td>7657</td>\n",
              "      <td>306</td>\n",
              "      <td>27</td>\n",
              "      <td>78</td>\n",
              "    </tr>\n",
              "    <tr>\n",
              "      <th>319</th>\n",
              "      <td>1/14/2021</td>\n",
              "      <td>11557</td>\n",
              "      <td>7741</td>\n",
              "      <td>295</td>\n",
              "      <td>24</td>\n",
              "      <td>63</td>\n",
              "    </tr>\n",
              "    <tr>\n",
              "      <th>320</th>\n",
              "      <td>1/15/2021</td>\n",
              "      <td>12818</td>\n",
              "      <td>7491</td>\n",
              "      <td>238</td>\n",
              "      <td>25</td>\n",
              "      <td>80</td>\n",
              "    </tr>\n",
              "    <tr>\n",
              "      <th>321</th>\n",
              "      <td>1/16/2021</td>\n",
              "      <td>14224</td>\n",
              "      <td>8662</td>\n",
              "      <td>283</td>\n",
              "      <td>22</td>\n",
              "      <td>80</td>\n",
              "    </tr>\n",
              "  </tbody>\n",
              "</table>\n",
              "</div>"
            ],
            "text/plain": [
              "           Tanggal  Positif  Sembuh  Meninggal  PSBB  Virus Corona\n",
              "Hari_ke                                                           \n",
              "317      12/1/2021    10047    7068        302    40            79\n",
              "318      1/13/2021    11278    7657        306    27            78\n",
              "319      1/14/2021    11557    7741        295    24            63\n",
              "320      1/15/2021    12818    7491        238    25            80\n",
              "321      1/16/2021    14224    8662        283    22            80"
            ]
          },
          "metadata": {
            "tags": []
          },
          "execution_count": 6
        }
      ]
    },
    {
      "cell_type": "markdown",
      "metadata": {
        "id": "dgvdsXwj6jIz"
      },
      "source": [
        "# Separate Data to X and Y Variable"
      ]
    },
    {
      "cell_type": "code",
      "metadata": {
        "id": "epteKSOw6nVf",
        "colab": {
          "base_uri": "https://localhost:8080/",
          "height": 233
        },
        "outputId": "bfff6cea-71ef-44c9-e6c5-b49bb25623e5"
      },
      "source": [
        "x_train = train_data[['Meninggal','Sembuh','Virus Corona','PSBB']]\r\n",
        "x_train.tail()"
      ],
      "execution_count": 7,
      "outputs": [
        {
          "output_type": "execute_result",
          "data": {
            "text/html": [
              "<div>\n",
              "<style scoped>\n",
              "    .dataframe tbody tr th:only-of-type {\n",
              "        vertical-align: middle;\n",
              "    }\n",
              "\n",
              "    .dataframe tbody tr th {\n",
              "        vertical-align: top;\n",
              "    }\n",
              "\n",
              "    .dataframe thead th {\n",
              "        text-align: right;\n",
              "    }\n",
              "</style>\n",
              "<table border=\"1\" class=\"dataframe\">\n",
              "  <thead>\n",
              "    <tr style=\"text-align: right;\">\n",
              "      <th></th>\n",
              "      <th>Meninggal</th>\n",
              "      <th>Sembuh</th>\n",
              "      <th>Virus Corona</th>\n",
              "      <th>PSBB</th>\n",
              "    </tr>\n",
              "    <tr>\n",
              "      <th>Hari_ke</th>\n",
              "      <th></th>\n",
              "      <th></th>\n",
              "      <th></th>\n",
              "      <th></th>\n",
              "    </tr>\n",
              "  </thead>\n",
              "  <tbody>\n",
              "    <tr>\n",
              "      <th>246</th>\n",
              "      <td>101</td>\n",
              "      <td>3624</td>\n",
              "      <td>43</td>\n",
              "      <td>19</td>\n",
              "    </tr>\n",
              "    <tr>\n",
              "      <th>247</th>\n",
              "      <td>102</td>\n",
              "      <td>3931</td>\n",
              "      <td>68</td>\n",
              "      <td>16</td>\n",
              "    </tr>\n",
              "    <tr>\n",
              "      <th>248</th>\n",
              "      <td>113</td>\n",
              "      <td>3785</td>\n",
              "      <td>60</td>\n",
              "      <td>14</td>\n",
              "    </tr>\n",
              "    <tr>\n",
              "      <th>249</th>\n",
              "      <td>89</td>\n",
              "      <td>3860</td>\n",
              "      <td>56</td>\n",
              "      <td>13</td>\n",
              "    </tr>\n",
              "    <tr>\n",
              "      <th>250</th>\n",
              "      <td>94</td>\n",
              "      <td>3563</td>\n",
              "      <td>65</td>\n",
              "      <td>15</td>\n",
              "    </tr>\n",
              "  </tbody>\n",
              "</table>\n",
              "</div>"
            ],
            "text/plain": [
              "         Meninggal  Sembuh  Virus Corona  PSBB\n",
              "Hari_ke                                       \n",
              "246            101    3624            43    19\n",
              "247            102    3931            68    16\n",
              "248            113    3785            60    14\n",
              "249             89    3860            56    13\n",
              "250             94    3563            65    15"
            ]
          },
          "metadata": {
            "tags": []
          },
          "execution_count": 7
        }
      ]
    },
    {
      "cell_type": "code",
      "metadata": {
        "id": "CeE9GcaR7Mht",
        "colab": {
          "base_uri": "https://localhost:8080/",
          "height": 233
        },
        "outputId": "5b94fee4-d37b-49b2-8c6d-f0c5fba2e8cd"
      },
      "source": [
        "# separate training data to Y variable\r\n",
        "y_train = train_data[['Positif']]\r\n",
        "y_train.tail()"
      ],
      "execution_count": 8,
      "outputs": [
        {
          "output_type": "execute_result",
          "data": {
            "text/html": [
              "<div>\n",
              "<style scoped>\n",
              "    .dataframe tbody tr th:only-of-type {\n",
              "        vertical-align: middle;\n",
              "    }\n",
              "\n",
              "    .dataframe tbody tr th {\n",
              "        vertical-align: top;\n",
              "    }\n",
              "\n",
              "    .dataframe thead th {\n",
              "        text-align: right;\n",
              "    }\n",
              "</style>\n",
              "<table border=\"1\" class=\"dataframe\">\n",
              "  <thead>\n",
              "    <tr style=\"text-align: right;\">\n",
              "      <th></th>\n",
              "      <th>Positif</th>\n",
              "    </tr>\n",
              "    <tr>\n",
              "      <th>Hari_ke</th>\n",
              "      <th></th>\n",
              "    </tr>\n",
              "  </thead>\n",
              "  <tbody>\n",
              "    <tr>\n",
              "      <th>246</th>\n",
              "      <td>2618</td>\n",
              "    </tr>\n",
              "    <tr>\n",
              "      <th>247</th>\n",
              "      <td>2973</td>\n",
              "    </tr>\n",
              "    <tr>\n",
              "      <th>248</th>\n",
              "      <td>3356</td>\n",
              "    </tr>\n",
              "    <tr>\n",
              "      <th>249</th>\n",
              "      <td>4065</td>\n",
              "    </tr>\n",
              "    <tr>\n",
              "      <th>250</th>\n",
              "      <td>3778</td>\n",
              "    </tr>\n",
              "  </tbody>\n",
              "</table>\n",
              "</div>"
            ],
            "text/plain": [
              "         Positif\n",
              "Hari_ke         \n",
              "246         2618\n",
              "247         2973\n",
              "248         3356\n",
              "249         4065\n",
              "250         3778"
            ]
          },
          "metadata": {
            "tags": []
          },
          "execution_count": 8
        }
      ]
    },
    {
      "cell_type": "code",
      "metadata": {
        "colab": {
          "base_uri": "https://localhost:8080/",
          "height": 233
        },
        "id": "Cm5B_8Y57cup",
        "outputId": "8194c40d-a1cd-4f94-9fca-9e079954326e"
      },
      "source": [
        "# separate validating data to X variable\r\n",
        "x_valid = valid_data[['Meninggal','Sembuh','Virus Corona','PSBB']]\r\n",
        "x_valid.tail()"
      ],
      "execution_count": 9,
      "outputs": [
        {
          "output_type": "execute_result",
          "data": {
            "text/html": [
              "<div>\n",
              "<style scoped>\n",
              "    .dataframe tbody tr th:only-of-type {\n",
              "        vertical-align: middle;\n",
              "    }\n",
              "\n",
              "    .dataframe tbody tr th {\n",
              "        vertical-align: top;\n",
              "    }\n",
              "\n",
              "    .dataframe thead th {\n",
              "        text-align: right;\n",
              "    }\n",
              "</style>\n",
              "<table border=\"1\" class=\"dataframe\">\n",
              "  <thead>\n",
              "    <tr style=\"text-align: right;\">\n",
              "      <th></th>\n",
              "      <th>Meninggal</th>\n",
              "      <th>Sembuh</th>\n",
              "      <th>Virus Corona</th>\n",
              "      <th>PSBB</th>\n",
              "    </tr>\n",
              "    <tr>\n",
              "      <th>Hari_ke</th>\n",
              "      <th></th>\n",
              "      <th></th>\n",
              "      <th></th>\n",
              "      <th></th>\n",
              "    </tr>\n",
              "  </thead>\n",
              "  <tbody>\n",
              "    <tr>\n",
              "      <th>317</th>\n",
              "      <td>302</td>\n",
              "      <td>7068</td>\n",
              "      <td>79</td>\n",
              "      <td>40</td>\n",
              "    </tr>\n",
              "    <tr>\n",
              "      <th>318</th>\n",
              "      <td>306</td>\n",
              "      <td>7657</td>\n",
              "      <td>78</td>\n",
              "      <td>27</td>\n",
              "    </tr>\n",
              "    <tr>\n",
              "      <th>319</th>\n",
              "      <td>295</td>\n",
              "      <td>7741</td>\n",
              "      <td>63</td>\n",
              "      <td>24</td>\n",
              "    </tr>\n",
              "    <tr>\n",
              "      <th>320</th>\n",
              "      <td>238</td>\n",
              "      <td>7491</td>\n",
              "      <td>80</td>\n",
              "      <td>25</td>\n",
              "    </tr>\n",
              "    <tr>\n",
              "      <th>321</th>\n",
              "      <td>283</td>\n",
              "      <td>8662</td>\n",
              "      <td>80</td>\n",
              "      <td>22</td>\n",
              "    </tr>\n",
              "  </tbody>\n",
              "</table>\n",
              "</div>"
            ],
            "text/plain": [
              "         Meninggal  Sembuh  Virus Corona  PSBB\n",
              "Hari_ke                                       \n",
              "317            302    7068            79    40\n",
              "318            306    7657            78    27\n",
              "319            295    7741            63    24\n",
              "320            238    7491            80    25\n",
              "321            283    8662            80    22"
            ]
          },
          "metadata": {
            "tags": []
          },
          "execution_count": 9
        }
      ]
    },
    {
      "cell_type": "code",
      "metadata": {
        "colab": {
          "base_uri": "https://localhost:8080/",
          "height": 233
        },
        "id": "HufVLWXW7mRn",
        "outputId": "7c49807c-6d1c-49f6-c611-f0a8061a6c9e"
      },
      "source": [
        "# separate validating data to Y variable\r\n",
        "y_valid = valid_data[['Positif']]\r\n",
        "y_valid.tail()"
      ],
      "execution_count": 10,
      "outputs": [
        {
          "output_type": "execute_result",
          "data": {
            "text/html": [
              "<div>\n",
              "<style scoped>\n",
              "    .dataframe tbody tr th:only-of-type {\n",
              "        vertical-align: middle;\n",
              "    }\n",
              "\n",
              "    .dataframe tbody tr th {\n",
              "        vertical-align: top;\n",
              "    }\n",
              "\n",
              "    .dataframe thead th {\n",
              "        text-align: right;\n",
              "    }\n",
              "</style>\n",
              "<table border=\"1\" class=\"dataframe\">\n",
              "  <thead>\n",
              "    <tr style=\"text-align: right;\">\n",
              "      <th></th>\n",
              "      <th>Positif</th>\n",
              "    </tr>\n",
              "    <tr>\n",
              "      <th>Hari_ke</th>\n",
              "      <th></th>\n",
              "    </tr>\n",
              "  </thead>\n",
              "  <tbody>\n",
              "    <tr>\n",
              "      <th>317</th>\n",
              "      <td>10047</td>\n",
              "    </tr>\n",
              "    <tr>\n",
              "      <th>318</th>\n",
              "      <td>11278</td>\n",
              "    </tr>\n",
              "    <tr>\n",
              "      <th>319</th>\n",
              "      <td>11557</td>\n",
              "    </tr>\n",
              "    <tr>\n",
              "      <th>320</th>\n",
              "      <td>12818</td>\n",
              "    </tr>\n",
              "    <tr>\n",
              "      <th>321</th>\n",
              "      <td>14224</td>\n",
              "    </tr>\n",
              "  </tbody>\n",
              "</table>\n",
              "</div>"
            ],
            "text/plain": [
              "         Positif\n",
              "Hari_ke         \n",
              "317        10047\n",
              "318        11278\n",
              "319        11557\n",
              "320        12818\n",
              "321        14224"
            ]
          },
          "metadata": {
            "tags": []
          },
          "execution_count": 10
        }
      ]
    },
    {
      "cell_type": "markdown",
      "metadata": {
        "id": "POLpf0TBqV_U"
      },
      "source": [
        "# Prediction using Multiple Linear Regression"
      ]
    },
    {
      "cell_type": "code",
      "metadata": {
        "colab": {
          "base_uri": "https://localhost:8080/",
          "height": 446
        },
        "id": "1zx3_s8v8njk",
        "outputId": "7fa0665f-0140-4e8a-f03f-4ac846121d2a"
      },
      "source": [
        "# add a constant column to training data\r\n",
        "x2_train = sm.add_constant(x_train)\r\n",
        "x2_train"
      ],
      "execution_count": 11,
      "outputs": [
        {
          "output_type": "execute_result",
          "data": {
            "text/html": [
              "<div>\n",
              "<style scoped>\n",
              "    .dataframe tbody tr th:only-of-type {\n",
              "        vertical-align: middle;\n",
              "    }\n",
              "\n",
              "    .dataframe tbody tr th {\n",
              "        vertical-align: top;\n",
              "    }\n",
              "\n",
              "    .dataframe thead th {\n",
              "        text-align: right;\n",
              "    }\n",
              "</style>\n",
              "<table border=\"1\" class=\"dataframe\">\n",
              "  <thead>\n",
              "    <tr style=\"text-align: right;\">\n",
              "      <th></th>\n",
              "      <th>const</th>\n",
              "      <th>Meninggal</th>\n",
              "      <th>Sembuh</th>\n",
              "      <th>Virus Corona</th>\n",
              "      <th>PSBB</th>\n",
              "    </tr>\n",
              "    <tr>\n",
              "      <th>Hari_ke</th>\n",
              "      <th></th>\n",
              "      <th></th>\n",
              "      <th></th>\n",
              "      <th></th>\n",
              "      <th></th>\n",
              "    </tr>\n",
              "  </thead>\n",
              "  <tbody>\n",
              "    <tr>\n",
              "      <th>1</th>\n",
              "      <td>1.0</td>\n",
              "      <td>0</td>\n",
              "      <td>0</td>\n",
              "      <td>72</td>\n",
              "      <td>0</td>\n",
              "    </tr>\n",
              "    <tr>\n",
              "      <th>2</th>\n",
              "      <td>1.0</td>\n",
              "      <td>0</td>\n",
              "      <td>0</td>\n",
              "      <td>49</td>\n",
              "      <td>0</td>\n",
              "    </tr>\n",
              "    <tr>\n",
              "      <th>3</th>\n",
              "      <td>1.0</td>\n",
              "      <td>0</td>\n",
              "      <td>0</td>\n",
              "      <td>26</td>\n",
              "      <td>0</td>\n",
              "    </tr>\n",
              "    <tr>\n",
              "      <th>4</th>\n",
              "      <td>1.0</td>\n",
              "      <td>0</td>\n",
              "      <td>0</td>\n",
              "      <td>18</td>\n",
              "      <td>0</td>\n",
              "    </tr>\n",
              "    <tr>\n",
              "      <th>5</th>\n",
              "      <td>1.0</td>\n",
              "      <td>0</td>\n",
              "      <td>0</td>\n",
              "      <td>17</td>\n",
              "      <td>0</td>\n",
              "    </tr>\n",
              "    <tr>\n",
              "      <th>...</th>\n",
              "      <td>...</td>\n",
              "      <td>...</td>\n",
              "      <td>...</td>\n",
              "      <td>...</td>\n",
              "      <td>...</td>\n",
              "    </tr>\n",
              "    <tr>\n",
              "      <th>246</th>\n",
              "      <td>1.0</td>\n",
              "      <td>101</td>\n",
              "      <td>3624</td>\n",
              "      <td>43</td>\n",
              "      <td>19</td>\n",
              "    </tr>\n",
              "    <tr>\n",
              "      <th>247</th>\n",
              "      <td>1.0</td>\n",
              "      <td>102</td>\n",
              "      <td>3931</td>\n",
              "      <td>68</td>\n",
              "      <td>16</td>\n",
              "    </tr>\n",
              "    <tr>\n",
              "      <th>248</th>\n",
              "      <td>1.0</td>\n",
              "      <td>113</td>\n",
              "      <td>3785</td>\n",
              "      <td>60</td>\n",
              "      <td>14</td>\n",
              "    </tr>\n",
              "    <tr>\n",
              "      <th>249</th>\n",
              "      <td>1.0</td>\n",
              "      <td>89</td>\n",
              "      <td>3860</td>\n",
              "      <td>56</td>\n",
              "      <td>13</td>\n",
              "    </tr>\n",
              "    <tr>\n",
              "      <th>250</th>\n",
              "      <td>1.0</td>\n",
              "      <td>94</td>\n",
              "      <td>3563</td>\n",
              "      <td>65</td>\n",
              "      <td>15</td>\n",
              "    </tr>\n",
              "  </tbody>\n",
              "</table>\n",
              "<p>250 rows × 5 columns</p>\n",
              "</div>"
            ],
            "text/plain": [
              "         const  Meninggal  Sembuh  Virus Corona  PSBB\n",
              "Hari_ke                                              \n",
              "1          1.0          0       0            72     0\n",
              "2          1.0          0       0            49     0\n",
              "3          1.0          0       0            26     0\n",
              "4          1.0          0       0            18     0\n",
              "5          1.0          0       0            17     0\n",
              "...        ...        ...     ...           ...   ...\n",
              "246        1.0        101    3624            43    19\n",
              "247        1.0        102    3931            68    16\n",
              "248        1.0        113    3785            60    14\n",
              "249        1.0         89    3860            56    13\n",
              "250        1.0         94    3563            65    15\n",
              "\n",
              "[250 rows x 5 columns]"
            ]
          },
          "metadata": {
            "tags": []
          },
          "execution_count": 11
        }
      ]
    },
    {
      "cell_type": "code",
      "metadata": {
        "colab": {
          "base_uri": "https://localhost:8080/"
        },
        "id": "G_vHNEMcdp8x",
        "outputId": "53dfb33f-cfaf-40cc-ba03-df7ef2bfd01f"
      },
      "source": [
        "# Review model of Linear Regression\r\n",
        "model = sm.OLS(y_train, x2_train)\r\n",
        "model_fit = model.fit()\r\n",
        "\r\n",
        "# Print out the statistics\r\n",
        "print(model_fit.summary())"
      ],
      "execution_count": 12,
      "outputs": [
        {
          "output_type": "stream",
          "text": [
            "                            OLS Regression Results                            \n",
            "==============================================================================\n",
            "Dep. Variable:                Positif   R-squared:                       0.916\n",
            "Model:                            OLS   Adj. R-squared:                  0.915\n",
            "Method:                 Least Squares   F-statistic:                     668.2\n",
            "Date:                Tue, 26 Jan 2021   Prob (F-statistic):          1.80e-130\n",
            "Time:                        03:27:41   Log-Likelihood:                -1866.3\n",
            "No. Observations:                 250   AIC:                             3743.\n",
            "Df Residuals:                     245   BIC:                             3760.\n",
            "Df Model:                           4                                         \n",
            "Covariance Type:            nonrobust                                         \n",
            "================================================================================\n",
            "                   coef    std err          t      P>|t|      [0.025      0.975]\n",
            "--------------------------------------------------------------------------------\n",
            "const         -132.3823    102.690     -1.289      0.199    -334.650      69.885\n",
            "Meninggal       11.6864      1.389      8.413      0.000       8.950      14.423\n",
            "Sembuh           0.6504      0.038     17.109      0.000       0.575       0.725\n",
            "Virus Corona     3.6864      1.445      2.551      0.011       0.840       6.533\n",
            "PSBB            -0.3428      1.044     -0.328      0.743      -2.399       1.714\n",
            "==============================================================================\n",
            "Omnibus:                        6.052   Durbin-Watson:                   1.128\n",
            "Prob(Omnibus):                  0.049   Jarque-Bera (JB):                9.231\n",
            "Skew:                           0.024   Prob(JB):                      0.00990\n",
            "Kurtosis:                       3.940   Cond. No.                     7.85e+03\n",
            "==============================================================================\n",
            "\n",
            "Warnings:\n",
            "[1] Standard Errors assume that the covariance matrix of the errors is correctly specified.\n",
            "[2] The condition number is large, 7.85e+03. This might indicate that there are\n",
            "strong multicollinearity or other numerical problems.\n"
          ],
          "name": "stdout"
        }
      ]
    },
    {
      "cell_type": "code",
      "metadata": {
        "colab": {
          "base_uri": "https://localhost:8080/"
        },
        "id": "AGkkswEK9sRb",
        "outputId": "e1cfa1cc-df39-4f10-dcbd-f434ebfcecf6"
      },
      "source": [
        "# Print constant and coefficient X variables\r\n",
        "print(model_fit.params)"
      ],
      "execution_count": 13,
      "outputs": [
        {
          "output_type": "stream",
          "text": [
            "const          -132.382292\n",
            "Meninggal        11.686353\n",
            "Sembuh            0.650368\n",
            "Virus Corona      3.686406\n",
            "PSBB             -0.342793\n",
            "dtype: float64\n"
          ],
          "name": "stdout"
        }
      ]
    },
    {
      "cell_type": "code",
      "metadata": {
        "colab": {
          "base_uri": "https://localhost:8080/",
          "height": 415
        },
        "id": "OfSxzz_x93mZ",
        "outputId": "dd133404-3ecd-42da-f52c-7c478e59b11a"
      },
      "source": [
        "# Training Linear Regression model\r\n",
        "mlr = LinearRegression()\r\n",
        "mlr = mlr.fit(x_train, y_train)\r\n",
        "\r\n",
        "# Validating data using model\r\n",
        "y_pred = mlr.predict(x_valid)\r\n",
        "\r\n",
        "df = pd.DataFrame({'Actual' : y_valid.values.flatten(),'Predicted' : y_pred.flatten()}) \r\n",
        "df = df.sort_index()\r\n",
        "df"
      ],
      "execution_count": 14,
      "outputs": [
        {
          "output_type": "execute_result",
          "data": {
            "text/html": [
              "<div>\n",
              "<style scoped>\n",
              "    .dataframe tbody tr th:only-of-type {\n",
              "        vertical-align: middle;\n",
              "    }\n",
              "\n",
              "    .dataframe tbody tr th {\n",
              "        vertical-align: top;\n",
              "    }\n",
              "\n",
              "    .dataframe thead th {\n",
              "        text-align: right;\n",
              "    }\n",
              "</style>\n",
              "<table border=\"1\" class=\"dataframe\">\n",
              "  <thead>\n",
              "    <tr style=\"text-align: right;\">\n",
              "      <th></th>\n",
              "      <th>Actual</th>\n",
              "      <th>Predicted</th>\n",
              "    </tr>\n",
              "  </thead>\n",
              "  <tbody>\n",
              "    <tr>\n",
              "      <th>0</th>\n",
              "      <td>4262</td>\n",
              "      <td>3587.706608</td>\n",
              "    </tr>\n",
              "    <tr>\n",
              "      <th>1</th>\n",
              "      <td>3880</td>\n",
              "      <td>3451.442132</td>\n",
              "    </tr>\n",
              "    <tr>\n",
              "      <th>2</th>\n",
              "      <td>2853</td>\n",
              "      <td>3520.221889</td>\n",
              "    </tr>\n",
              "    <tr>\n",
              "      <th>3</th>\n",
              "      <td>3779</td>\n",
              "      <td>3165.385858</td>\n",
              "    </tr>\n",
              "    <tr>\n",
              "      <th>4</th>\n",
              "      <td>3770</td>\n",
              "      <td>3087.095412</td>\n",
              "    </tr>\n",
              "    <tr>\n",
              "      <th>...</th>\n",
              "      <td>...</td>\n",
              "      <td>...</td>\n",
              "    </tr>\n",
              "    <tr>\n",
              "      <th>66</th>\n",
              "      <td>10047</td>\n",
              "      <td>8271.208278</td>\n",
              "    </tr>\n",
              "    <tr>\n",
              "      <th>67</th>\n",
              "      <td>11278</td>\n",
              "      <td>8701.790071</td>\n",
              "    </tr>\n",
              "    <tr>\n",
              "      <th>68</th>\n",
              "      <td>11557</td>\n",
              "      <td>8573.603355</td>\n",
              "    </tr>\n",
              "    <tr>\n",
              "      <th>69</th>\n",
              "      <td>12818</td>\n",
              "      <td>7807.215482</td>\n",
              "    </tr>\n",
              "    <tr>\n",
              "      <th>70</th>\n",
              "      <td>14224</td>\n",
              "      <td>9095.710112</td>\n",
              "    </tr>\n",
              "  </tbody>\n",
              "</table>\n",
              "<p>71 rows × 2 columns</p>\n",
              "</div>"
            ],
            "text/plain": [
              "    Actual    Predicted\n",
              "0     4262  3587.706608\n",
              "1     3880  3451.442132\n",
              "2     2853  3520.221889\n",
              "3     3779  3165.385858\n",
              "4     3770  3087.095412\n",
              "..     ...          ...\n",
              "66   10047  8271.208278\n",
              "67   11278  8701.790071\n",
              "68   11557  8573.603355\n",
              "69   12818  7807.215482\n",
              "70   14224  9095.710112\n",
              "\n",
              "[71 rows x 2 columns]"
            ]
          },
          "metadata": {
            "tags": []
          },
          "execution_count": 14
        }
      ]
    },
    {
      "cell_type": "code",
      "metadata": {
        "colab": {
          "base_uri": "https://localhost:8080/",
          "height": 609
        },
        "id": "lMVUgrq6IAlF",
        "outputId": "b8fc71fd-911e-457a-8ef4-df95fcb51da2"
      },
      "source": [
        "import matplotlib.pyplot as plt\r\n",
        "df.plot(kind='line', \r\n",
        "             stacked=False,\r\n",
        "             figsize=(20, 10),\r\n",
        "             )\r\n",
        "plt.title('Plot Grafik Prediksi MLR')\r\n",
        "plt.ylabel('Jumlah Kasus Positif')\r\n",
        "plt.xlabel('Hari-Ke')\r\n",
        "\r\n",
        "plt.savefig('MLR-Positif Covid.png')\r\n",
        "plt.show()"
      ],
      "execution_count": 15,
      "outputs": [
        {
          "output_type": "display_data",
          "data": {
            "image/png": "[encoded data removed]",
            "text/plain": [
              "<Figure size 1440x720 with 1 Axes>"
            ]
          },
          "metadata": {
            "tags": [],
            "needs_background": "light"
          }
        }
      ]
    },
    {
      "cell_type": "markdown",
      "metadata": {
        "id": "jwTPVQRyMoyi"
      },
      "source": [
        "# Evaluating Linear Regression model"
      ]
    },
    {
      "cell_type": "code",
      "metadata": {
        "colab": {
          "base_uri": "https://localhost:8080/"
        },
        "id": "jkjeVO9NH3ne",
        "outputId": "95a157bb-7d3f-43fa-b440-cf65f01d05e3"
      },
      "source": [
        "MAE = sklearn.metrics.mean_absolute_error(y_valid,y_pred)\r\n",
        "MSE = sklearn.metrics.mean_squared_error(y_valid,y_pred) #harus di waktu yang sama\r\n",
        "RMSE = np.sqrt(MSE)\r\n",
        "MAPE = np.mean(np.abs((np.array(y_valid) - np.array(y_pred)) / np.array(y_valid))) * 100\r\n",
        "print('MAE = {0:.4f} '.format(MAE))\r\n",
        "print('MSE = {0:.4f} '.format(MSE))\r\n",
        "print('RMSE = {0:.4f} '.format(RMSE))\r\n",
        "print('MAPE = {0:.4f} '.format(MAPE))"
      ],
      "execution_count": 16,
      "outputs": [
        {
          "output_type": "stream",
          "text": [
            "MAE = 1361.6931 \n",
            "MSE = 2957857.1542 \n",
            "RMSE = 1719.8422 \n",
            "MAPE = 19.2765 \n"
          ],
          "name": "stdout"
        }
      ]
    }
  ]
}